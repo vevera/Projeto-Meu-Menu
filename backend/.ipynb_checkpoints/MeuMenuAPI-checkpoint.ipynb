{
 "cells": [
  {
   "cell_type": "markdown",
   "id": "shared-nylon",
   "metadata": {
    "tags": []
   },
   "source": [
    "### Conexão e DB"
   ]
  },
  {
   "cell_type": "code",
   "execution_count": null,
   "id": "balanced-preparation",
   "metadata": {},
   "outputs": [],
   "source": [
    "# Rewrite Database\n",
    "from DatabaseDAO import DatabaseDAO\n",
    "\n",
    "CONNECTION = {\n",
    "    'host': 'localhost',\n",
    "    'port': 5432,\n",
    "    'database': 'postgres',\n",
    "    'user': 'postgres',\n",
    "    'password': 'postgres'\n",
    "}\n",
    "\n",
    "conn = DatabaseDAO(**CONNECTION)\n",
    "conn.DEBUG = False\n",
    "\n",
    "conn.execute_query('SELECT pg_terminate_backend(pid) FROM pg_stat_activity WHERE datname = %s', ['meumenu'])\n",
    "conn.execute_query('DROP DATABASE meumenu;')\n",
    "conn.execute_query('CREATE DATABASE meumenu;')\n",
    "\n",
    "CONNECTION = {\n",
    "    'host': 'localhost',\n",
    "    'port': 5432,\n",
    "    'database': 'meumenu',\n",
    "    'user': 'postgres',\n",
    "    'password': 'postgres'\n",
    "}\n",
    "\n",
    "conn = DatabaseDAO(**CONNECTION)\n",
    "conn.DEBUG = False\n",
    "\n",
    "with open('structure.sql') as f:\n",
    "    sql = f.read()\n",
    "    conn.execute_query(sql)\n",
    "\n",
    "conn.DEBUG = True"
   ]
  },
  {
   "cell_type": "code",
   "execution_count": null,
   "id": "protective-crystal",
   "metadata": {},
   "outputs": [],
   "source": [
    "# Just Connect\n",
    "from DatabaseDAO import DatabaseDAO\n",
    "\n",
    "CONNECTION = {\n",
    "    'host': 'localhost',\n",
    "    'port': 5432,\n",
    "    'database': 'meumenu',\n",
    "    'user': 'postgres',\n",
    "    'password': 'postgres'\n",
    "}\n",
    "\n",
    "conn = DatabaseDAO(**CONNECTION)\n",
    "conn.DEBUG = False"
   ]
  },
  {
   "cell_type": "code",
   "execution_count": null,
   "id": "attended-southeast",
   "metadata": {},
   "outputs": [],
   "source": [
    "from Store import Store, create_store, store_login"
   ]
  },
  {
   "cell_type": "markdown",
   "id": "psychological-belarus",
   "metadata": {
    "heading_collapsed": "true",
    "tags": []
   },
   "source": [
    "### Testes"
   ]
  },
  {
   "cell_type": "code",
   "execution_count": null,
   "id": "integral-sociology",
   "metadata": {},
   "outputs": [],
   "source": [
    "# Create New Store\n",
    "my_store = create_store(\n",
    "        conn,\n",
    "        name='Lojão do Pão',\n",
    "        phone='+5585996108737',\n",
    "        email='airton.neto@delfosim.com',\n",
    "        password='droped123',\n",
    "        specialtys=['Pães', 'Queijos'],\n",
    "        adress_country='Brazil',\n",
    "        adress_city='Fortaleza',\n",
    "        adress_borough='Joaquim Távora',\n",
    "        adress_street='Rua Visconde do Rio Branco 2955, APTO 202 A'\n",
    ")"
   ]
  },
  {
   "cell_type": "code",
   "execution_count": null,
   "id": "smaller-account",
   "metadata": {},
   "outputs": [],
   "source": [
    "# Instantiate class Store\n",
    "store_id = my_store['id']\n",
    "store = Store(my_store['id'])"
   ]
  },
  {
   "cell_type": "code",
   "execution_count": null,
   "id": "imperial-twist",
   "metadata": {},
   "outputs": [],
   "source": [
    "# Categories\n",
    "category = store.create_category('Pães', 'O melhor pão da região!')\n",
    "category2 = store.create_category('Queijos', 'O melhor queijo da região!')\n",
    "store.delete_category(category2['id'])\n",
    "store.categories()"
   ]
  },
  {
   "cell_type": "code",
   "execution_count": null,
   "id": "surprising-terrain",
   "metadata": {},
   "outputs": [],
   "source": [
    "# Specialtys\n",
    "store.update_specialtys(['Pães', 'Queijos', 'Bolos'])\n",
    "store.specialtys()"
   ]
  },
  {
   "cell_type": "code",
   "execution_count": null,
   "id": "prescription-sphere",
   "metadata": {},
   "outputs": [],
   "source": [
    "# Schedules\n",
    "schedule = store.add_schedule(1, 3, '13:00', '17:00')\n",
    "schedule2 = store.add_schedule(5, 7, '05:00', '17:00')\n",
    "store.delete_schedule(schedule2['id'])\n",
    "store.schedules()"
   ]
  },
  {
   "cell_type": "code",
   "execution_count": null,
   "id": "political-organizer",
   "metadata": {},
   "outputs": [],
   "source": [
    "# Products\n",
    "with open('pao_carioca.jpeg', 'rb') as f:\n",
    "    photo = f.read()\n",
    "product = store.create_product(\n",
    "    name='Pão Carioquinha', \n",
    "    description='O melhor pão da cidade!', \n",
    "    price=0.5, \n",
    "    photo=photo, \n",
    "    category_id=category['id']\n",
    ")\n",
    "with open('pao_carteira.jpg', 'rb') as f:\n",
    "    photo = f.read()\n",
    "product2 = store.create_product(\n",
    "    name='Pão Carteira', \n",
    "    description='Pãozinho Artesanal Fresquinho para sua família!', \n",
    "    price=0.5, \n",
    "    photo=photo, \n",
    "    category_id=category['id']\n",
    ")\n",
    "store.delete_product(product2['id'])\n",
    "store.products()"
   ]
  },
  {
   "cell_type": "markdown",
   "id": "interior-period",
   "metadata": {
    "tags": []
   },
   "source": [
    "### API"
   ]
  },
  {
   "cell_type": "code",
   "execution_count": null,
   "id": "accurate-separation",
   "metadata": {},
   "outputs": [],
   "source": [
    "from flask import Flask, request, make_response\n",
    "import json\n",
    "\n",
    "app = Flask(__name__)\n",
    "\n",
    "@app.route(\"/\")\n",
    "def hello_world():\n",
    "    return \"<p>Welcome to MeuMenu API!</p>\"\n",
    "\n",
    "# Create New Store\n",
    "@app.route(\"/store/sign\", methods = [\"POST\"])\n",
    "def app_create_store():\n",
    "    data = request.get_json()\n",
    "    return create_store(\n",
    "        conn,\n",
    "        data['name'],\n",
    "        data['phone'],\n",
    "        data['email'],\n",
    "        data['password'],\n",
    "        data['specialtys'],\n",
    "        data['adress_country'],\n",
    "        data['adress_city'],\n",
    "        data['adress_borough'],\n",
    "        data['adress_street']\n",
    "    )\n",
    "\n",
    "@app.route(\"/store/login\", methods = [\"GET\"])\n",
    "def app_store_information():\n",
    "    params = request.args\n",
    "    data = store_login(conn, **params)\n",
    "    if not data.empty:\n",
    "        return data.to_dict(orient = 'records')[0]\n",
    "    else:\n",
    "        return make_response(\"Non Authorized\", 401)\n",
    "\n",
    "@app.route(\"/store/<store_id>/categories\", methods = [\"GET\", \"POST\", \"DELETE\"])\n",
    "def app_categories(store_id):\n",
    "\n",
    "    store = Store(conn, store_id)\n",
    "    if request.method == 'GET':\n",
    "        params = request.args\n",
    "        return {'response': store.categories()}\n",
    "    \n",
    "    elif request.method == 'POST':\n",
    "        data = request.get_json()\n",
    "        return store.create_category(**data)\n",
    "        \n",
    "    elif request.method == 'DELETE':\n",
    "        data = request.get_json()\n",
    "        return store.delete_category(**data)\n",
    "\n",
    "import base64\n",
    "import io\n",
    "\n",
    "@app.route(\"/store/<store_id>/products\", methods = [\"GET\", \"POST\", \"DELETE\"])\n",
    "def app_products(store_id):\n",
    "\n",
    "    store = Store(conn, store_id)\n",
    "    if request.method == 'GET':\n",
    "        params = request.args\n",
    "        return {'response': store.products()}\n",
    "    \n",
    "    elif request.method == 'POST':\n",
    "        data = request.get_json()\n",
    "        \n",
    "        im_b64 = data.pop('photo')\n",
    "        img_bytes = base64.b64decode(im_b64.encode('utf-8'))\n",
    "        img = io.BytesIO(img_bytes)\n",
    "        data['photo'] = img_bytes\n",
    "        \n",
    "        return store.create_product(**data)\n",
    "        \n",
    "    elif request.method == 'DELETE':\n",
    "        data = request.get_json()\n",
    "        return store.delete_product(**data)\n",
    "\n",
    "@app.route(\"/store/<store_id>/specialtys\", methods = [\"GET\", \"PUT\"])\n",
    "def app_specialtys(store_id):\n",
    "\n",
    "    store = Store(conn, store_id)\n",
    "    if request.method == 'GET':\n",
    "        params = request.args\n",
    "        return {'response': store.specialtys()}\n",
    "    \n",
    "    elif request.method == 'PUT':\n",
    "        data = request.get_json()\n",
    "        return store.update_specialtys(**data)\n",
    "\n",
    "@app.route(\"/store/<store_id>/schedules\", methods = [\"GET\", \"POST\", \"DELETE\"])\n",
    "def app_schedules(store_id):\n",
    "\n",
    "    store = Store(conn, store_id)\n",
    "    if request.method == 'GET':\n",
    "        params = request.args\n",
    "        return {'response': store.schedules()}\n",
    "    \n",
    "    elif request.method == 'POST':\n",
    "        data = request.get_json()\n",
    "        return store.add_schedule(**data)\n",
    "        \n",
    "    elif request.method == 'DELETE':\n",
    "        data = request.get_json()\n",
    "        return store.delete_schedule(**data)\n",
    "\n",
    "app.run(\"0.0.0.0\", port = 5000)"
   ]
  },
  {
   "cell_type": "code",
   "execution_count": null,
   "id": "instructional-impact",
   "metadata": {},
   "outputs": [],
   "source": []
  }
 ],
 "metadata": {
  "kernelspec": {
   "display_name": "Python 3",
   "language": "python",
   "name": "python3"
  },
  "language_info": {
   "codemirror_mode": {
    "name": "ipython",
    "version": 3
   },
   "file_extension": ".py",
   "mimetype": "text/x-python",
   "name": "python",
   "nbconvert_exporter": "python",
   "pygments_lexer": "ipython3",
   "version": "3.8.3"
  }
 },
 "nbformat": 4,
 "nbformat_minor": 5
}
