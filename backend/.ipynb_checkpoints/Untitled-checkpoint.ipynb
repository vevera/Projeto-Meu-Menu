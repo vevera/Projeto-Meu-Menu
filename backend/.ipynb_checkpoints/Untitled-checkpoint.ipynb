{
 "cells": [
  {
   "cell_type": "code",
   "execution_count": 1,
   "id": "universal-spiritual",
   "metadata": {},
   "outputs": [],
   "source": [
    "from DatabaseDAO import DatabaseDAO\n",
    "\n",
    "CONNECTION = {\n",
    "    'host': 'localhost',\n",
    "    'port': 5432,\n",
    "    'database': 'postgres',\n",
    "    'user': 'postgres',\n",
    "    'password': 'postgres'\n",
    "}\n",
    "\n",
    "conn = DatabaseDAO(**CONNECTION)\n",
    "conn.DEBUG = False\n",
    "\n",
    "conn.execute_query('SELECT pg_terminate_backend(pid) FROM pg_stat_activity WHERE datname = %s', ['meumenu'])\n",
    "conn.execute_query('DROP DATABASE meumenu;')\n",
    "conn.execute_query('CREATE DATABASE meumenu;')\n",
    "\n",
    "CONNECTION = {\n",
    "    'host': 'localhost',\n",
    "    'port': 5432,\n",
    "    'database': 'meumenu',\n",
    "    'user': 'postgres',\n",
    "    'password': 'postgres'\n",
    "}\n",
    "\n",
    "conn = DatabaseDAO(**CONNECTION)\n",
    "conn.DEBUG = False\n",
    "\n",
    "with open('structure.sql') as f:\n",
    "    sql = f.read()\n",
    "    conn.execute_query(sql)\n",
    "\n",
    "conn.DEBUG = True"
   ]
  },
  {
   "cell_type": "code",
   "execution_count": 2,
   "id": "pleasant-preview",
   "metadata": {},
   "outputs": [],
   "source": [
    "class Store:\n",
    "    \n",
    "    def __init__(self, store_id):\n",
    "        self.store_id = store_id\n",
    "        \n",
    "    def categories(self):\n",
    "        return conn.read_query(\"\"\"\n",
    "            SELECT \n",
    "                category.*, \n",
    "                store.name AS store_name\n",
    "            FROM category\n",
    "            LEFT JOIN store \n",
    "                ON store_id = store.id\n",
    "            WHERE store.id = %s\n",
    "        \"\"\", [self.store_id]).to_dict(orient = 'records')\n",
    "    \n",
    "    def create_category(self, name, description):\n",
    "        return conn.read_query(\"\"\"\n",
    "            INSERT INTO category (name, description, store_id)\n",
    "            VALUES\n",
    "            (%s, %s, %s)\n",
    "            RETURNING *\n",
    "        \"\"\", [name, description, self.store_id]).to_dict(orient = 'records')\n",
    "        \n",
    "    def delete_category(self, category_id):\n",
    "        return conn.read_query(\"\"\"\n",
    "            DELETE FROM category CASCADE\n",
    "            WHERE id = %s\n",
    "            RETURNING *\n",
    "        \"\"\", [category_id]).to_dict(orient = 'records')\n",
    "    \n",
    "    def products(self):\n",
    "        return conn.read_query(\"\"\"\n",
    "            SELECT *\n",
    "            FROM product\n",
    "            LEFT JOIN category\n",
    "                ON category_id = category.id\n",
    "            WHERE store_id = %s\n",
    "        \"\"\", self.store_id).to_dict(orient = 'records')\n",
    "        \n",
    "    def create_product(self, name, description, price, photo, category_id):\n",
    "        return conn.read_query(\"\"\"\n",
    "            INSERT INTO product (name, description, price, photo, category_id)\n",
    "            VALUES\n",
    "            (%s, %s, %s, %s, %s)\n",
    "        \"\"\", [name, description, price, photo, category_id]).to_dict(orient = 'records')\n",
    "        \n",
    "        \n",
    "    def delete_product(self):\n",
    "        return conn.read_query(\"\"\"\n",
    "            DELETE FROM product\n",
    "            WHERE id = %s\n",
    "            RETURNING *\n",
    "        \"\"\", [product_id]).to_dict(orient = 'records')\n",
    "        \n",
    "    \n",
    "    def specialtys(self):\n",
    "        return conn.read_query(\"\"\"\n",
    "            SELECT specialtys\n",
    "            FROM store\n",
    "            WHERE id = %s\n",
    "        \"\"\", [self.store_id]).to_dict(orient = 'records')\n",
    "        \n",
    "    \n",
    "    def update_specialtys(self, specialtys):        \n",
    "        return conn.read_query(\"\"\"\n",
    "            UPDATE store\n",
    "            SET specialtys = %s\n",
    "            WHERE id = %s\n",
    "            RETURNING *\n",
    "        \"\"\", [specialtys, self.store_id]).to_dict(orient = 'records')\n",
    "\n",
    "        \n",
    "    def add_schedule(self, dow_start, dow_end, opens_at, closes_at):\n",
    "        return conn.read_query(\"\"\"\n",
    "            INSERT INTO schedule (dow_start, dow_end, opens_at, closes_at, store_id)\n",
    "            VALUES\n",
    "            (%s, %s, %s, %s, %s)\n",
    "            RETURNING *\n",
    "        \"\"\", [dow_start, dow_end, opens_at, closes_at, self.store_id]).to_dict(orient = 'records')\n",
    "        \n",
    "    def delete_schedule(self, schedule_id):\n",
    "        return conn.read_query(\"\"\"\n",
    "            DELETE FROM schedule\n",
    "            WHERE id = %s\n",
    "            RETURNING *\n",
    "        \"\"\", [schedule_id]).to_dict(orient = 'records')\n",
    "    \n",
    "    def schedules(self):\n",
    "        return conn.read_query(\"\"\"\n",
    "            SELECT *\n",
    "            FROM schedule\n",
    "            WHERE store_id = %s\n",
    "        \"\"\", [self.store_id]).to_dict(orient = 'records')"
   ]
  },
  {
   "cell_type": "code",
   "execution_count": 3,
   "id": "parliamentary-consolidation",
   "metadata": {},
   "outputs": [],
   "source": [
    "def create_store(\n",
    "        name,\n",
    "        phone,\n",
    "        email,\n",
    "        password,\n",
    "        specialtys,\n",
    "        adress_country,\n",
    "        adress_city,\n",
    "        adress_borough,\n",
    "        adress_street\n",
    "    ):\n",
    "    return conn.read_query(\"\"\"\n",
    "        INSERT INTO store (\n",
    "            name,\n",
    "            phone,\n",
    "            email,\n",
    "            password,\n",
    "            specialtys,\n",
    "            adress_country,\n",
    "            adress_city,\n",
    "            adress_borough,\n",
    "            adress_street\n",
    "        )\n",
    "        VALUES\n",
    "        (%s,%s,%s,%s,%s,%s,%s,%s,%s)\n",
    "        RETURNING *\n",
    "    \"\"\", [\n",
    "        name,\n",
    "        phone,\n",
    "        email,\n",
    "        password,\n",
    "        specialtys,\n",
    "        adress_country,\n",
    "        adress_city,\n",
    "        adress_borough,\n",
    "        adress_street\n",
    "    ]).to_dict(orient = 'records')"
   ]
  },
  {
   "cell_type": "code",
   "execution_count": 4,
   "id": "extraordinary-display",
   "metadata": {},
   "outputs": [
    {
     "name": "stdout",
     "output_type": "stream",
     "text": [
      "\n",
      "        INSERT INTO store (\n",
      "            name,\n",
      "            phone,\n",
      "            email,\n",
      "            password,\n",
      "            specialtys,\n",
      "            adress_country,\n",
      "            adress_city,\n",
      "            adress_borough,\n",
      "            adress_street\n",
      "        )\n",
      "        VALUES\n",
      "        ('Lojão do Pão','+5585996108737','airton.neto@delfosim.com','droped123',ARRAY['Pães','Queijos'],'Brazil','Fortaleza','Joaquim Távora','Rua Visconde do Rio Branco 2955, APTO 202 A')\n",
      "        RETURNING *\n",
      "    \n"
     ]
    }
   ],
   "source": [
    "my_store = create_store(\n",
    "        name='Lojão do Pão',\n",
    "        phone='+5585996108737',\n",
    "        email='airton.neto@delfosim.com',\n",
    "        password='droped123',\n",
    "        specialtys=['Pães', 'Queijos'],\n",
    "        adress_country='Brazil',\n",
    "        adress_city='Fortaleza',\n",
    "        adress_borough='Joaquim Távora',\n",
    "        adress_street='Rua Visconde do Rio Branco 2955, APTO 202 A'\n",
    ")"
   ]
  },
  {
   "cell_type": "code",
   "execution_count": 5,
   "id": "favorite-worth",
   "metadata": {},
   "outputs": [],
   "source": [
    "# Instantiate class Store\n",
    "store_id = my_store[0]['id']\n",
    "store = Store(my_store[0]['id'])"
   ]
  },
  {
   "cell_type": "code",
   "execution_count": 6,
   "id": "honest-uniform",
   "metadata": {},
   "outputs": [
    {
     "name": "stdout",
     "output_type": "stream",
     "text": [
      "\n",
      "            INSERT INTO category (name, description, store_id)\n",
      "            VALUES\n",
      "            ('Pães', 'O melhor pão da região!', 1)\n",
      "            RETURNING *\n",
      "        \n",
      "\n",
      "            INSERT INTO category (name, description, store_id)\n",
      "            VALUES\n",
      "            ('Queijos', 'O melhor queijo da região!', 1)\n",
      "            RETURNING *\n",
      "        \n",
      "\n",
      "            DELETE FROM category CASCADE\n",
      "            WHERE id = 2\n",
      "            RETURNING *\n",
      "        \n",
      "\n",
      "            SELECT \n",
      "                category.*, \n",
      "                store.name AS store_name\n",
      "            FROM category\n",
      "            LEFT JOIN store \n",
      "                ON store_id = store.id\n",
      "            WHERE store.id = 1\n",
      "        \n"
     ]
    },
    {
     "data": {
      "text/plain": [
       "[{'id': 1,\n",
       "  'name': 'Pães',\n",
       "  'description': 'O melhor pão da região!',\n",
       "  'store_id': 1,\n",
       "  'store_name': 'Lojão do Pão'}]"
      ]
     },
     "execution_count": 6,
     "metadata": {},
     "output_type": "execute_result"
    }
   ],
   "source": [
    "# Categories\n",
    "category = store.create_category('Pães', 'O melhor pão da região!')\n",
    "category2 = store.create_category('Queijos', 'O melhor queijo da região!')\n",
    "store.delete_category(category2[0]['id'])\n",
    "store.categories()"
   ]
  },
  {
   "cell_type": "code",
   "execution_count": 7,
   "id": "crucial-denmark",
   "metadata": {},
   "outputs": [
    {
     "name": "stdout",
     "output_type": "stream",
     "text": [
      "\n",
      "            UPDATE store\n",
      "            SET specialtys = ARRAY['Pães','Queijos','Bolos']\n",
      "            WHERE id = 1\n",
      "            RETURNING *\n",
      "        \n",
      "\n",
      "            SELECT specialtys\n",
      "            FROM store\n",
      "            WHERE id = 1\n",
      "        \n"
     ]
    },
    {
     "data": {
      "text/plain": [
       "[{'specialtys': ['Pães', 'Queijos', 'Bolos']}]"
      ]
     },
     "execution_count": 7,
     "metadata": {},
     "output_type": "execute_result"
    }
   ],
   "source": [
    "# Specialtys\n",
    "store.update_specialtys(['Pães', 'Queijos', 'Bolos'])\n",
    "store.specialtys()"
   ]
  },
  {
   "cell_type": "code",
   "execution_count": 8,
   "id": "scenic-worcester",
   "metadata": {},
   "outputs": [
    {
     "name": "stdout",
     "output_type": "stream",
     "text": [
      "\n",
      "            INSERT INTO schedule (dow_start, dow_end, opens_at, closes_at, store_id)\n",
      "            VALUES\n",
      "            (1, 3, '13:00', '17:00', 1)\n",
      "            RETURNING *\n",
      "        \n",
      "\n",
      "            INSERT INTO schedule (dow_start, dow_end, opens_at, closes_at, store_id)\n",
      "            VALUES\n",
      "            (5, 7, '05:00', '17:00', 1)\n",
      "            RETURNING *\n",
      "        \n",
      "\n",
      "            DELETE FROM schedule\n",
      "            WHERE id = 2\n",
      "            RETURNING *\n",
      "        \n",
      "\n",
      "            SELECT *\n",
      "            FROM schedule\n",
      "            WHERE store_id = 1\n",
      "        \n"
     ]
    },
    {
     "data": {
      "text/plain": [
       "[{'id': 1,\n",
       "  'store_id': 1,\n",
       "  'dow_start': 1,\n",
       "  'dow_end': 3,\n",
       "  'opens_at': Timedelta('0 days 13:00:00'),\n",
       "  'closes_at': Timedelta('0 days 17:00:00')}]"
      ]
     },
     "execution_count": 8,
     "metadata": {},
     "output_type": "execute_result"
    }
   ],
   "source": [
    "# Schedules\n",
    "schedule = store.add_schedule(1, 3, '13:00', '17:00')\n",
    "schedule2 = store.add_schedule(5, 7, '05:00', '17:00')\n",
    "store.delete_schedule(schedule2[0]['id'])\n",
    "store.schedules()"
   ]
  },
  {
   "cell_type": "code",
   "execution_count": null,
   "id": "dietary-creativity",
   "metadata": {},
   "outputs": [],
   "source": [
    "# Products\n",
    "with open('pao.jpeg', 'rb') as f:\n",
    "    photo = f.read()\n",
    "store.create_product(\n",
    "    name='Pão Carioquinha', \n",
    "    description='O melhor pão da cidade!', \n",
    "    price=0.5, \n",
    "    photo=photo, \n",
    "    category_id=category[0]['id']\n",
    ")"
   ]
  }
 ],
 "metadata": {
  "kernelspec": {
   "display_name": "Python 3",
   "language": "python",
   "name": "python3"
  },
  "language_info": {
   "codemirror_mode": {
    "name": "ipython",
    "version": 3
   },
   "file_extension": ".py",
   "mimetype": "text/x-python",
   "name": "python",
   "nbconvert_exporter": "python",
   "pygments_lexer": "ipython3",
   "version": "3.8.3"
  }
 },
 "nbformat": 4,
 "nbformat_minor": 5
}
