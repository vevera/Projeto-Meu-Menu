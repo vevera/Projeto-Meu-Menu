{
 "cells": [
  {
   "cell_type": "markdown",
   "source": [
    "### Conexão e DB"
   ],
   "metadata": {
    "tags": []
   }
  },
  {
   "cell_type": "code",
   "execution_count": 13,
   "source": [
    "# Rewrite Database\r\n",
    "from DatabaseDAO import DatabaseDAO\r\n",
    "\r\n",
    "CONNECTION = {\r\n",
    "    'host': 'localhost',\r\n",
    "    'port': 5432,\r\n",
    "    'database': 'postgres',\r\n",
    "    'user': 'postgres',\r\n",
    "    'password': '999590188aA'\r\n",
    "}\r\n",
    "\r\n",
    "conn = DatabaseDAO(**CONNECTION)\r\n",
    "conn.DEBUG = False\r\n",
    "\r\n",
    "conn.execute_query('SELECT pg_terminate_backend(pid) FROM pg_stat_activity WHERE datname = %s', ['meumenu'])\r\n",
    "#conn.execute_query('DROP DATABASE meumenu;')\r\n",
    "conn.execute_query('CREATE DATABASE meumenu;')\r\n",
    "\r\n",
    "CONNECTION = {\r\n",
    "    'host': 'localhost',\r\n",
    "    'port': 5432,\r\n",
    "    'database': 'meumenu',\r\n",
    "    'user': 'postgres',\r\n",
    "    'password': '999590188aA'\r\n",
    "}\r\n",
    "\r\n",
    "conn = DatabaseDAO(**CONNECTION)\r\n",
    "conn.DEBUG = False\r\n",
    "\r\n",
    "with open('structure.sql') as f:\r\n",
    "    sql = f.read()\r\n",
    "    conn.execute_query(sql)\r\n",
    "\r\n",
    "conn.DEBUG = True"
   ],
   "outputs": [],
   "metadata": {}
  },
  {
   "cell_type": "code",
   "execution_count": 1,
   "source": [
    "# Just Connect\r\n",
    "from DatabaseDAO import DatabaseDAO\r\n",
    "\r\n",
    "CONNECTION = {\r\n",
    "    'host': 'localhost',\r\n",
    "    'port': 5432,\r\n",
    "    'database': 'meumenu',\r\n",
    "    'user': 'postgres',\r\n",
    "    'password': '999590188aA'\r\n",
    "}\r\n",
    "\r\n",
    "conn = DatabaseDAO(**CONNECTION)\r\n",
    "conn.DEBUG = False"
   ],
   "outputs": [],
   "metadata": {}
  },
  {
   "cell_type": "code",
   "execution_count": 2,
   "source": [
    "from Store import Store, create_store, store_login"
   ],
   "outputs": [],
   "metadata": {}
  },
  {
   "cell_type": "markdown",
   "source": [
    "### Testes"
   ],
   "metadata": {
    "heading_collapsed": "true",
    "tags": []
   }
  },
  {
   "cell_type": "code",
   "execution_count": null,
   "source": [
    "# Create New Store\r\n",
    "my_store = create_store(\r\n",
    "        conn,\r\n",
    "        name='Lojão do Pão',\r\n",
    "        phone='+5585996108737',\r\n",
    "        email='airton.neto@delfosim.com',\r\n",
    "        password='droped123',\r\n",
    "        specialtys=['Pães', 'Queijos'],\r\n",
    "        adress_country='Brazil',\r\n",
    "        adress_city='Fortaleza',\r\n",
    "        adress_borough='Joaquim Távora',\r\n",
    "        adress_street='Rua Visconde do Rio Branco 2955, APTO 202 A'\r\n",
    ")"
   ],
   "outputs": [],
   "metadata": {}
  },
  {
   "cell_type": "code",
   "execution_count": null,
   "source": [
    "# Instantiate class Store\r\n",
    "store_id = my_store['id']\r\n",
    "store = Store(conn, my_store['id'])"
   ],
   "outputs": [],
   "metadata": {}
  },
  {
   "cell_type": "code",
   "execution_count": null,
   "source": [
    "# Categories\r\n",
    "category = store.create_category('Pães', 'O melhor pão da região!')\r\n",
    "category2 = store.create_category('Queijos', 'O melhor queijo da região!')\r\n",
    "store.delete_category(category2['id'])\r\n",
    "store.categories()"
   ],
   "outputs": [
    {
     "output_type": "execute_result",
     "data": {
      "text/plain": [
       "[{'id': 1,\n",
       "  'name': 'Pães',\n",
       "  'description': 'O melhor pão da região!',\n",
       "  'store_id': 1,\n",
       "  'store_name': 'Lojão do Pão'}]"
      ]
     },
     "metadata": {},
     "execution_count": 36
    }
   ],
   "metadata": {}
  },
  {
   "cell_type": "code",
   "execution_count": null,
   "source": [
    "# Specialtys\r\n",
    "store.update_specialtys(['Pães', 'Queijos', 'Bolos'])\r\n",
    "store.specialtys()"
   ],
   "outputs": [
    {
     "output_type": "execute_result",
     "data": {
      "text/plain": [
       "[{'specialtys': ['Pães', 'Queijos', 'Bolos']}]"
      ]
     },
     "metadata": {},
     "execution_count": 37
    }
   ],
   "metadata": {}
  },
  {
   "cell_type": "code",
   "execution_count": null,
   "source": [
    "# Schedules\r\n",
    "schedule = store.add_schedule(1, 3, '13:00', '17:00')\r\n",
    "schedule2 = store.add_schedule(5, 7, '05:00', '17:00')\r\n",
    "store.delete_schedule(schedule2['id'])\r\n",
    "store.schedules()"
   ],
   "outputs": [
    {
     "output_type": "execute_result",
     "data": {
      "text/plain": [
       "[{'id': 1,\n",
       "  'store_id': 1,\n",
       "  'dow_start': 1,\n",
       "  'dow_end': 3,\n",
       "  'opens_at': '13:00:00',\n",
       "  'closes_at': '17:00:00'}]"
      ]
     },
     "metadata": {},
     "execution_count": 38
    }
   ],
   "metadata": {}
  },
  {
   "cell_type": "code",
   "execution_count": null,
   "source": [
    "# Products\r\n",
    "with open('pao_carioca.jpeg', 'rb') as f:\r\n",
    "    photo = f.read()\r\n",
    "product = store.create_product(\r\n",
    "    name='Pão Carioquinha', \r\n",
    "    description='O melhor pão da cidade!', \r\n",
    "    price=0.5, \r\n",
    "    photo=photo, \r\n",
    "    category_id=category['id']\r\n",
    ")\r\n",
    "with open('pao_carteira.jpg', 'rb') as f:\r\n",
    "    photo = f.read()\r\n",
    "product2 = store.create_product(\r\n",
    "    name='Pão Carteira', \r\n",
    "    description='Pãozinho Artesanal Fresquinho para sua família!', \r\n",
    "    price=0.5, \r\n",
    "    photo=photo, \r\n",
    "    category_id=category['id']\r\n",
    ")\r\n",
    "store.delete_product(product2['id'])\r\n",
    "store.products()"
   ],
   "outputs": [],
   "metadata": {}
  },
  {
   "cell_type": "markdown",
   "source": [
    "### API"
   ],
   "metadata": {
    "tags": []
   }
  },
  {
   "cell_type": "code",
   "execution_count": 5,
   "source": [
    "from flask import Flask, request, make_response\r\n",
    "import json\r\n",
    "\r\n",
    "app = Flask(__name__)\r\n",
    "\r\n",
    "@app.route(\"/\")\r\n",
    "def hello_world():\r\n",
    "    return \"<p>Welcome to MeuMenu API!</p>\"\r\n",
    "\r\n",
    "# Create New Store\r\n",
    "@app.route(\"/store/sign\", methods = [\"POST\"])\r\n",
    "def app_create_store():\r\n",
    "    data = request.get_json()\r\n",
    "    return create_store(\r\n",
    "        conn,\r\n",
    "        data['name'],\r\n",
    "        data['phone'],\r\n",
    "        data['email'],\r\n",
    "        data['password'],\r\n",
    "        data['specialtys'],\r\n",
    "        data['adress_country'],\r\n",
    "        data['adress_city'],\r\n",
    "        data['adress_borough'],\r\n",
    "        data['adress_street']\r\n",
    "    )\r\n",
    "\r\n",
    "@app.route(\"/store/login\", methods = [\"GET\"])\r\n",
    "def app_store_information():\r\n",
    "    params = request.args\r\n",
    "    data = store_login(conn, **params)\r\n",
    "    if not data.empty:\r\n",
    "        return data.to_dict(orient = 'records')[0]\r\n",
    "    else:\r\n",
    "        return make_response(\"Non Authorized\", 401)\r\n",
    "\r\n",
    "@app.route(\"/store/<store_id>/categories\", methods = [\"GET\", \"POST\", \"DELETE\"])\r\n",
    "def app_categories(store_id):\r\n",
    "\r\n",
    "    store = Store(conn, store_id)\r\n",
    "    if request.method == 'GET':\r\n",
    "        params = request.args\r\n",
    "        return {'response': store.categories()}\r\n",
    "    \r\n",
    "    elif request.method == 'POST':\r\n",
    "        data = request.get_json()\r\n",
    "        return store.create_category(**data)\r\n",
    "        \r\n",
    "    elif request.method == 'DELETE':\r\n",
    "        data = request.get_json()\r\n",
    "        return store.delete_category(**data)\r\n",
    "\r\n",
    "import base64\r\n",
    "import io\r\n",
    "\r\n",
    "@app.route(\"/store/<store_id>/products\", methods = [\"GET\", \"POST\", \"DELETE\"])\r\n",
    "def app_products(store_id):\r\n",
    "\r\n",
    "    store = Store(conn, store_id)\r\n",
    "    if request.method == 'GET':\r\n",
    "        params = request.args\r\n",
    "        return {'response': store.products()}\r\n",
    "    \r\n",
    "    elif request.method == 'POST':\r\n",
    "        data = request.get_json()\r\n",
    "        \r\n",
    "        im_b64 = data.pop('photo')\r\n",
    "        img_bytes = base64.b64decode(im_b64.encode('utf-8'))\r\n",
    "        img = io.BytesIO(img_bytes)\r\n",
    "        data['photo'] = img_bytes\r\n",
    "        \r\n",
    "        return store.create_product(**data)\r\n",
    "        \r\n",
    "    elif request.method == 'DELETE':\r\n",
    "        data = request.get_json()\r\n",
    "        return store.delete_product(**data)\r\n",
    "\r\n",
    "@app.route(\"/store/<store_id>/specialtys\", methods = [\"GET\", \"PUT\"])\r\n",
    "def app_specialtys(store_id):\r\n",
    "\r\n",
    "    store = Store(conn, store_id)\r\n",
    "    if request.method == 'GET':\r\n",
    "        params = request.args\r\n",
    "        return json.dumps(store.specialtys()[0])\r\n",
    "    \r\n",
    "    elif request.method == 'PUT':\r\n",
    "        data = request.get_json()\r\n",
    "        return store.update_specialtys(**data)\r\n",
    "\r\n",
    "@app.route(\"/store/<store_id>/schedules\", methods = [\"GET\", \"POST\", \"DELETE\"])\r\n",
    "def app_schedules(store_id):\r\n",
    "\r\n",
    "    store = Store(conn, store_id)\r\n",
    "    if request.method == 'GET':\r\n",
    "        params = request.args\r\n",
    "        return {'response': store.schedules()}\r\n",
    "    \r\n",
    "    elif request.method == 'POST':\r\n",
    "        data = request.get_json()\r\n",
    "        return store.add_schedule(**data)\r\n",
    "        \r\n",
    "    elif request.method == 'DELETE':\r\n",
    "        data = request.get_json()\r\n",
    "        return store.delete_schedule(**data)\r\n",
    "    \r\n",
    "@app.route(\"/store/<store_id>/schedules/delete\", methods = [\"POST\"])\r\n",
    "def app_schedulesDelete(store_id):\r\n",
    "    store = Store(conn, store_id)\r\n",
    "    data = request.get_json()\r\n",
    "    return store.delete_schedule(**data)\r\n",
    "\r\n",
    "app.run(\"0.0.0.0\", port = 5000)"
   ],
   "outputs": [
    {
     "output_type": "stream",
     "name": "stdout",
     "text": [
      " * Serving Flask app '__main__' (lazy loading)\n",
      " * Environment: production\n",
      "\u001b[31m   WARNING: This is a development server. Do not use it in a production deployment.\u001b[0m\n",
      "\u001b[2m   Use a production WSGI server instead.\u001b[0m\n",
      " * Debug mode: off\n"
     ]
    },
    {
     "output_type": "stream",
     "name": "stderr",
     "text": [
      " * Running on all addresses.\n",
      "   WARNING: This is a development server. Do not use it in a production deployment.\n",
      " * Running on http://192.168.1.103:5000/ (Press CTRL+C to quit)\n",
      "192.168.1.103 - - [02/Aug/2021 17:53:59] \"GET /store/login/?email=airton.neto@delfosim.com&password=droped123 HTTP/1.1\" 404 -\n",
      "192.168.1.103 - - [02/Aug/2021 17:55:36] \"GET /store/login/?email=airton.neto@delfosim.com&password=droped123 HTTP/1.1\" 404 -\n"
     ]
    },
    {
     "output_type": "stream",
     "name": "stdout",
     "text": [
      "primeiro if\n"
     ]
    },
    {
     "output_type": "stream",
     "name": "stderr",
     "text": [
      "192.168.1.103 - - [02/Aug/2021 17:55:47] \"GET /store/login?email=airton.neto@delfosim.com&password=droped123 HTTP/1.1\" 200 -\n"
     ]
    },
    {
     "output_type": "stream",
     "name": "stdout",
     "text": [
      "   id          name           phone                     email   password  \\\n",
      "0   1  Lojão do Pão  +5585996108737  airton.neto@delfosim.com  droped123   \n",
      "\n",
      "  specialtys adress_country adress_city  adress_borough  \\\n",
      "0      [Pao]         Brazil   Fortaleza  Joaquim Távora   \n",
      "\n",
      "                                 adress_street  \n",
      "0  Rua Visconde do Rio Branco 2955, APTO 202 A  \n"
     ]
    },
    {
     "output_type": "stream",
     "name": "stderr",
     "text": [
      "[2021-08-02 18:00:30,973] ERROR in app: Exception on /store/login [GET]\n",
      "Traceback (most recent call last):\n",
      "  File \"C:\\Users\\danie\\AppData\\Local\\Packages\\PythonSoftwareFoundation.Python.3.9_qbz5n2kfra8p0\\LocalCache\\local-packages\\Python39\\site-packages\\flask\\app.py\", line 2070, in wsgi_app\n",
      "    response = self.full_dispatch_request()\n",
      "  File \"C:\\Users\\danie\\AppData\\Local\\Packages\\PythonSoftwareFoundation.Python.3.9_qbz5n2kfra8p0\\LocalCache\\local-packages\\Python39\\site-packages\\flask\\app.py\", line 1515, in full_dispatch_request\n",
      "    rv = self.handle_user_exception(e)\n",
      "  File \"C:\\Users\\danie\\AppData\\Local\\Packages\\PythonSoftwareFoundation.Python.3.9_qbz5n2kfra8p0\\LocalCache\\local-packages\\Python39\\site-packages\\flask\\app.py\", line 1513, in full_dispatch_request\n",
      "    rv = self.dispatch_request()\n",
      "  File \"C:\\Users\\danie\\AppData\\Local\\Packages\\PythonSoftwareFoundation.Python.3.9_qbz5n2kfra8p0\\LocalCache\\local-packages\\Python39\\site-packages\\flask\\app.py\", line 1499, in dispatch_request\n",
      "    return self.ensure_sync(self.view_functions[rule.endpoint])(**req.view_args)\n",
      "  File \"C:\\Users\\danie\\AppData\\Local\\Temp/ipykernel_13432/3430813785.py\", line 30, in app_store_information\n",
      "    data = store_login(conn, **params)\n",
      "TypeError: store_login() got an unexpected keyword argument '/'\n",
      "192.168.1.103 - - [02/Aug/2021 18:00:30] \"GET /store/login?/&email=airton.neto@delfosim.com&password=droped123 HTTP/1.1\" 500 -\n",
      "[2021-08-02 18:01:36,763] ERROR in app: Exception on /store/login [GET]\n",
      "Traceback (most recent call last):\n",
      "  File \"C:\\Users\\danie\\AppData\\Local\\Packages\\PythonSoftwareFoundation.Python.3.9_qbz5n2kfra8p0\\LocalCache\\local-packages\\Python39\\site-packages\\flask\\app.py\", line 2070, in wsgi_app\n",
      "    response = self.full_dispatch_request()\n",
      "  File \"C:\\Users\\danie\\AppData\\Local\\Packages\\PythonSoftwareFoundation.Python.3.9_qbz5n2kfra8p0\\LocalCache\\local-packages\\Python39\\site-packages\\flask\\app.py\", line 1515, in full_dispatch_request\n",
      "    rv = self.handle_user_exception(e)\n",
      "  File \"C:\\Users\\danie\\AppData\\Local\\Packages\\PythonSoftwareFoundation.Python.3.9_qbz5n2kfra8p0\\LocalCache\\local-packages\\Python39\\site-packages\\flask\\app.py\", line 1513, in full_dispatch_request\n",
      "    rv = self.dispatch_request()\n",
      "  File \"C:\\Users\\danie\\AppData\\Local\\Packages\\PythonSoftwareFoundation.Python.3.9_qbz5n2kfra8p0\\LocalCache\\local-packages\\Python39\\site-packages\\flask\\app.py\", line 1499, in dispatch_request\n",
      "    return self.ensure_sync(self.view_functions[rule.endpoint])(**req.view_args)\n",
      "  File \"C:\\Users\\danie\\AppData\\Local\\Temp/ipykernel_13432/3430813785.py\", line 30, in app_store_information\n",
      "    data = store_login(conn, **params)\n",
      "TypeError: store_login() got an unexpected keyword argument '/'\n",
      "192.168.1.103 - - [02/Aug/2021 18:01:36] \"GET /store/login?/&email=airton.neto@delfosim.com&password=droped123 HTTP/1.1\" 500 -\n",
      "192.168.1.103 - - [02/Aug/2021 18:06:11] \"GET /store/login?email=airton.neto%40delfosim.com&password=droped123 HTTP/1.1\" 200 -\n"
     ]
    },
    {
     "output_type": "stream",
     "name": "stdout",
     "text": [
      "primeiro if\n",
      "   id          name           phone                     email   password  \\\n",
      "0   1  Lojão do Pão  +5585996108737  airton.neto@delfosim.com  droped123   \n",
      "\n",
      "  specialtys adress_country adress_city  adress_borough  \\\n",
      "0      [Pao]         Brazil   Fortaleza  Joaquim Távora   \n",
      "\n",
      "                                 adress_street  \n",
      "0  Rua Visconde do Rio Branco 2955, APTO 202 A  \n"
     ]
    }
   ],
   "metadata": {}
  },
  {
   "cell_type": "code",
   "execution_count": null,
   "source": [],
   "outputs": [],
   "metadata": {}
  }
 ],
 "metadata": {
  "kernelspec": {
   "name": "python3",
   "display_name": "Python 3.9.5 64-bit"
  },
  "language_info": {
   "codemirror_mode": {
    "name": "ipython",
    "version": 3
   },
   "file_extension": ".py",
   "mimetype": "text/x-python",
   "name": "python",
   "nbconvert_exporter": "python",
   "pygments_lexer": "ipython3",
   "version": "3.9.5"
  },
  "interpreter": {
   "hash": "ce1e901da04acbe50dd99cd0d91cb411cb2166c3507dec81ce620981a8df4741"
  }
 },
 "nbformat": 4,
 "nbformat_minor": 5
}