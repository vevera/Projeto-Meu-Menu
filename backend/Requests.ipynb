{
 "cells": [
  {
   "cell_type": "markdown",
   "source": [
    "### Examples of Requests"
   ],
   "metadata": {}
  },
  {
   "cell_type": "code",
   "execution_count": null,
   "source": [
    "import requests\n",
    "import json"
   ],
   "outputs": [],
   "metadata": {}
  },
  {
   "cell_type": "code",
   "execution_count": null,
   "source": [
    "# Create a New Store (Sign up)\n",
    "API_URL = 'http://localhost'\n",
    "data = {\n",
    "    'name': 'Lojão do 12',\n",
    "    'phone': '+5585996108737',\n",
    "    'email': 'airton',\n",
    "    'password': 'neto',\n",
    "    'specialtys': ['Roupas'],\n",
    "    'adress_country': 'Brazil',\n",
    "    'adress_city': 'Fortaleza',\n",
    "    'adress_borough': 'Joaquim Távora',\n",
    "    'adress_street': 'Rua Visconde do Rio Branco 2955, APTO 202 A'\n",
    "}\n",
    "req = requests.post(f\"{API_URL}:5000/store/sign\", data = json.dumps(data), headers = {'content-type': 'application/json'})"
   ],
   "outputs": [],
   "metadata": {}
  },
  {
   "cell_type": "code",
   "execution_count": null,
   "source": [
    "STORE_ID = req.json()['id']\n",
    "print(f\"Foi criada a loja {req.json()['name']} com o id {req.json()['id']}\")"
   ],
   "outputs": [],
   "metadata": {}
  },
  {
   "cell_type": "code",
   "execution_count": null,
   "source": [
    "# Address\n",
    "API_URL = 'http://localhost'\n",
    "params = {}\n",
    "req = requests.get(f\"{API_URL}:5000/store/{STORE_ID}/address\", headers = {'content-type': 'application/json'})\n",
    "print(f\"Endereços {req.json()}\")"
   ],
   "outputs": [],
   "metadata": {}
  },
  {
   "cell_type": "code",
   "execution_count": null,
   "source": [
    "API_URL = 'http://localhost'\n",
    "data = {\n",
    "    'adress_country': 'ADDRESS',\n",
    "    'adress_city': 'ADDRESS',\n",
    "    'adress_borough': 'ADDRESS',\n",
    "    'adress_street': 'ADDRESS'\n",
    "}\n",
    "req = requests.post(f\"{API_URL}:5000/store/{STORE_ID}/address\", data = json.dumps(data), headers = {'content-type': 'application/json'})\n",
    "print(f\"Foi criada a categoria {req.json()['name']} com o id {req.json()['id']}\")"
   ],
   "outputs": [],
   "metadata": {}
  },
  {
   "cell_type": "code",
   "execution_count": null,
   "source": [
    "# Get New Store information\n",
    "API_URL = 'http://localhost'\n",
    "params = {\n",
    "    'email': 'airton',\n",
    "    'password': 'neto'\n",
    "}\n",
    "req = requests.get(f\"{API_URL}:5000/store/login\", params = params, headers = {'content-type': 'application/json'})\n",
    "print(f\"A autenticação foi realizada para a loja {req.json()['name']} com o id {STORE_ID}\")"
   ],
   "outputs": [],
   "metadata": {}
  },
  {
   "cell_type": "code",
   "execution_count": null,
   "source": [
    "# Get New Store information\n",
    "API_URL = 'http://localhost'\n",
    "params = {\n",
    "    'email': 'airton',\n",
    "    'password': 'neto'\n",
    "}\n",
    "req = requests.get(f\"{API_URL}:5000/store/login\", params = params, headers = {'content-type': 'application/json'})\n",
    "print(f\"A autenticação foi realizada para a loja {req.json()['name']} com o id {req.json()['id']}\")"
   ],
   "outputs": [],
   "metadata": {}
  },
  {
   "cell_type": "code",
   "execution_count": null,
   "source": [
    "# Categories\n",
    "API_URL = 'http://localhost'\n",
    "params = {}\n",
    "req = requests.get(f\"{API_URL}:5000/store/{STORE_ID}/categories\", headers = {'content-type': 'application/json'})\n",
    "print(f\"Foram encontradas as categorias {req.json()}\")"
   ],
   "outputs": [],
   "metadata": {}
  },
  {
   "cell_type": "code",
   "execution_count": null,
   "source": [
    "API_URL = 'http://localhost'\n",
    "data = {\n",
    "    'name': 'Roupas',\n",
    "    'description': 'Tudo muito barato!'\n",
    "}\n",
    "req = requests.post(f\"{API_URL}:5000/store/{STORE_ID}/categories\", data = json.dumps(data), headers = {'content-type': 'application/json'})\n",
    "print(f\"Foi criada a categoria {req.json()['name']} com o id {req.json()['id']}\")\n",
    "\n",
    "API_URL = 'http://localhost'\n",
    "data = {\n",
    "    'category_id': req.json()['id']\n",
    "}\n",
    "req = requests.delete(f\"{API_URL}:5000/store/{STORE_ID}/categories\", data = json.dumps(data), headers = {'content-type': 'application/json'})\n",
    "print(f\"Foi deletada a categoria {req.json()['name']} com o id {req.json()['id']}\")"
   ],
   "outputs": [],
   "metadata": {}
  },
  {
   "cell_type": "code",
   "execution_count": null,
   "source": [
    "API_URL = 'http://localhost'\n",
    "data = {\n",
    "    'name': 'Calçados',\n",
    "    'description': 'Tudo mais barato!'\n",
    "}\n",
    "req = requests.post(f\"{API_URL}:5000/store/{STORE_ID}/categories\", data = json.dumps(data), headers = {'content-type': 'application/json'})\n",
    "CATEGORY_ID = req.json()['id']\n",
    "print(f\"Foi criada a categoria {req.json()['name']} com o id {req.json()['id']}\")"
   ],
   "outputs": [],
   "metadata": {}
  },
  {
   "cell_type": "code",
   "execution_count": null,
   "source": [
    "API_URL = 'http://localhost'\n",
    "data = {\n",
    "    'category_id': CATEGORY_ID,\n",
    "    'name': 'Calçados Nome Novo',\n",
    "    'description': 'Tudo mais barato!'\n",
    "}\n",
    "req = requests.put(f\"{API_URL}:5000/store/{STORE_ID}/categories\", data = json.dumps(data), headers = {'content-type': 'application/json'})\n",
    "CATEGORY_ID = req.json()['id']\n",
    "print(f\"Foi atualizada a categoria {req.json()['name']} com o id {req.json()['id']}\")"
   ],
   "outputs": [],
   "metadata": {}
  },
  {
   "cell_type": "code",
   "execution_count": null,
   "source": [
    "# Product\n",
    "API_URL = 'http://localhost'\n",
    "params = {}\n",
    "req = requests.get(f\"{API_URL}:5000/store/{STORE_ID}/products\", headers = {'content-type': 'application/json'})\n",
    "print(f\"Foram encontrados os produtos {req.json()}\")"
   ],
   "outputs": [],
   "metadata": {}
  },
  {
   "cell_type": "code",
   "execution_count": null,
   "source": [
    "import base64\n",
    "import io\n",
    "\n",
    "API_URL = 'http://localhost'\n",
    "with open('camiseta.png', 'rb') as f:\n",
    "    im_bytes = f.read()\n",
    "im_b64 = base64.b64encode(im_bytes).decode(\"utf8\")\n",
    "data = {\n",
    "    'name': 'Chapeu10',\n",
    "    'description': 'Esse é top hein!',\n",
    "    'price': 10,\n",
    "    'photo': im_b64,\n",
    "    'category_id': CATEGORY_ID\n",
    "}\n",
    "req = requests.post(f\"{API_URL}:5000/store/{STORE_ID}/products\", data = json.dumps(data), headers = {'content-type': 'application/json'})\n",
    "PRODUCT_ID = req.json()['id']\n",
    "print(f\"Foi criado o produto {req.json()['name']} com o id {req.json()['id']}\")"
   ],
   "outputs": [],
   "metadata": {}
  },
  {
   "cell_type": "code",
   "execution_count": null,
   "source": [
    "import base64\n",
    "import io\n",
    "\n",
    "API_URL = 'http://localhost'\n",
    "with open('camiseta.png', 'rb') as f:\n",
    "    im_bytes = f.read()\n",
    "im_b64 = base64.b64encode(im_bytes).decode(\"utf8\")\n",
    "data = {\n",
    "    'product_id': PRODUCT_ID,\n",
    "    'name': 'Chapeu Nome novo!',\n",
    "    'description': 'Esse é top hein!',\n",
    "    'price': 10,\n",
    "    'photo': im_b64\n",
    "}\n",
    "req = requests.put(f\"{API_URL}:5000/store/{STORE_ID}/products\", data = json.dumps(data), headers = {'content-type': 'application/json'})\n",
    "PRODUCT_ID = req.json()['id']\n",
    "print(f\"Foi atualizado o produto {req.json()['name']} com o id {req.json()['id']}\")"
   ],
   "outputs": [],
   "metadata": {}
  },
  {
   "cell_type": "code",
   "execution_count": null,
   "source": [
    "API_URL = 'http://localhost'\n",
    "data = {\n",
    "    'product_id': req.json()['id']\n",
    "}\n",
    "req = requests.delete(f\"{API_URL}:5000/store/{STORE_ID}/products\", data = json.dumps(data), headers = {'content-type': 'application/json'})\n",
    "print(f\"Foi deletado o produto {req.json()['name']} com o id {req.json()['id']}\")"
   ],
   "outputs": [],
   "metadata": {}
  },
  {
   "cell_type": "code",
   "execution_count": null,
   "source": [
    "# Specialtys\n",
    "API_URL = 'http://localhost'\n",
    "params = {}\n",
    "req = requests.get(f\"{API_URL}:5000/store/{STORE_ID}/specialtys\", headers = {'content-type': 'application/json'})\n",
    "print(f\"Foram puxadas as especialidade {req.json()}\")"
   ],
   "outputs": [],
   "metadata": {}
  },
  {
   "cell_type": "code",
   "execution_count": null,
   "source": [
    "API_URL = 'http://localhost'\n",
    "data = {\n",
    "    'specialtys': ['Roupas', 'Calçados']\n",
    "}\n",
    "req = requests.put(f\"{API_URL}:5000/store/{STORE_ID}/specialtys\", data = json.dumps(data), headers = {'content-type': 'application/json'})\n",
    "print(f\"Foram atualizadas as especialidades {req.json()}\")"
   ],
   "outputs": [],
   "metadata": {}
  },
  {
   "cell_type": "code",
   "execution_count": null,
   "source": [
    "# Schedules\n",
    "API_URL = 'http://localhost'\n",
    "params = {}\n",
    "req = requests.get(f\"{API_URL}:5000/store/{STORE_ID}/schedules\", headers = {'content-type': 'application/json'})\n",
    "print(f\"Foram puxados horarios {req.json()}\")"
   ],
   "outputs": [],
   "metadata": {}
  },
  {
   "cell_type": "code",
   "execution_count": null,
   "source": [
    "API_URL = 'http://localhost'\n",
    "data = {\n",
    "    'dow_start': 1, \n",
    "    'dow_end': 3, \n",
    "    'opens_at': '10:00', \n",
    "    'closes_at': '17:00'\n",
    "}\n",
    "req = requests.post(f\"{API_URL}:5000/store/{STORE_ID}/schedules\", data = json.dumps(data), headers = {'content-type': 'application/json'})\n",
    "print(f\"Foi criado o horario {req.json()}\")"
   ],
   "outputs": [],
   "metadata": {}
  },
  {
   "cell_type": "code",
   "execution_count": null,
   "source": [
    "API_URL = 'http://localhost'\n",
    "data = {\n",
    "    'schedule_id': req.json()['id']\n",
    "}\n",
    "req = requests.delete(f\"{API_URL}:5000/store/{STORE_ID}/schedules\", data = json.dumps(data), headers = {'content-type': 'application/json'})\n",
    "print(f\"Foi deletado o horario {req.json()}\")"
   ],
   "outputs": [],
   "metadata": {}
  }
 ],
 "metadata": {
  "kernelspec": {
   "display_name": "Python 3",
   "language": "python",
   "name": "python3"
  },
  "language_info": {
   "codemirror_mode": {
    "name": "ipython",
    "version": 3
   },
   "file_extension": ".py",
   "mimetype": "text/x-python",
   "name": "python",
   "nbconvert_exporter": "python",
   "pygments_lexer": "ipython3",
   "version": "3.8.3"
  }
 },
 "nbformat": 4,
 "nbformat_minor": 5
}