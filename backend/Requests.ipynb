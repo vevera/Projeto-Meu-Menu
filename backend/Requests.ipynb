{
 "cells": [
  {
   "cell_type": "markdown",
   "id": "f625cf75",
   "metadata": {},
   "source": [
    "### Examples of Requests"
   ]
  },
  {
   "cell_type": "code",
   "execution_count": null,
   "id": "ea9afbd6",
   "metadata": {},
   "outputs": [],
   "source": [
    "import requests\r\n",
    "import json"
   ]
  },
  {
   "cell_type": "code",
   "execution_count": null,
   "id": "bb24f32c",
   "metadata": {},
   "outputs": [],
   "source": [
    "# Create a New Store (Sign up)\r\n",
    "API_URL = 'http://localhost'\r\n",
    "data = {\r\n",
    "    'name': 'Lojão do 12',\r\n",
    "    'phone': '+5585996108737',\r\n",
    "    'email': 'airton',\r\n",
    "    'password': 'neto',\r\n",
    "    'specialtys': ['Roupas'],\r\n",
    "    'adress_country': 'Brazil',\r\n",
    "    'adress_city': 'Fortaleza',\r\n",
    "    'adress_borough': 'Joaquim Távora',\r\n",
    "    'adress_street': 'Rua Visconde do Rio Branco 2955, APTO 202 A'\r\n",
    "}\r\n",
    "req = requests.post(f\"{API_URL}:5000/store/sign\", data = json.dumps(data), headers = {'content-type': 'application/json'})"
   ]
  },
  {
   "cell_type": "code",
   "execution_count": null,
   "id": "72b2121e",
   "metadata": {},
   "outputs": [],
   "source": [
    "STORE_ID = req.json()['id']\r\n",
    "print(f\"Foi criada a loja {req.json()['name']} com o id {req.json()['id']}\")"
   ]
  },
  {
   "cell_type": "code",
   "execution_count": null,
   "id": "25a501c4",
   "metadata": {},
   "outputs": [],
   "source": [
    "# Address\r\n",
    "API_URL = 'http://localhost'\r\n",
    "params = {}\r\n",
    "req = requests.get(f\"{API_URL}:5000/store/{STORE_ID}/address\", headers = {'content-type': 'application/json'})\r\n",
    "print(f\"Endereços {req.json()}\")"
   ]
  },
  {
   "cell_type": "code",
   "execution_count": null,
   "id": "6da30fc6",
   "metadata": {},
   "outputs": [],
   "source": [
    "API_URL = 'http://localhost'\r\n",
    "data = {\r\n",
    "    'adress_country': 'ADDRESS',\r\n",
    "    'adress_city': 'ADDRESS',\r\n",
    "    'adress_borough': 'ADDRESS',\r\n",
    "    'adress_street': 'ADDRESS'\r\n",
    "}\r\n",
    "req = requests.post(f\"{API_URL}:5000/store/{STORE_ID}/address\", data = json.dumps(data), headers = {'content-type': 'application/json'})\r\n",
    "print(f\"Foi criada a categoria {req.json()['name']} com o id {req.json()['id']}\")"
   ]
  },
  {
   "cell_type": "code",
   "execution_count": null,
   "id": "14f2760f-ee5e-4945-be52-27c5a74ba48b",
   "metadata": {
    "tags": []
   },
   "outputs": [],
   "source": [
    "API_URL = 'http://localhost'\n",
    "data = {\n",
    "    \"aceita_credito\": True,\n",
    "    \"aceita_debito\": True,\n",
    "    \"aceita_dinheiro\": True,\n",
    "    \"aceita_pix\": True\n",
    "}\n",
    "req = requests.put(f\"{API_URL}:5000/store/{STORE_ID}/payment\", data = json.dumps(data), headers = {'content-type': 'application/json'})\n",
    "print(f\"Foi atualizada a forma de pagamento\")"
   ]
  },
  {
   "cell_type": "code",
   "execution_count": null,
   "id": "bd921d20",
   "metadata": {},
   "outputs": [],
   "source": [
    "# Get New Store information\r\n",
    "API_URL = 'http://localhost'\r\n",
    "params = {\r\n",
    "    'email': 'airton',\r\n",
    "    'password': 'neto'\r\n",
    "}\r\n",
    "req = requests.get(f\"{API_URL}:5000/store/login\", params = params, headers = {'content-type': 'application/json'})\r\n",
    "print(f\"A autenticação foi realizada para a loja {req.json()['name']} com o id {STORE_ID}\")"
   ]
  },
  {
   "cell_type": "code",
   "execution_count": null,
   "id": "d93d8ddc",
   "metadata": {},
   "outputs": [],
   "source": [
    "# Get New Store information\r\n",
    "API_URL = 'http://localhost'\r\n",
    "params = {\r\n",
    "    'email': 'airton',\r\n",
    "    'password': 'neto'\r\n",
    "}\r\n",
    "req = requests.get(f\"{API_URL}:5000/store/login\", params = params, headers = {'content-type': 'application/json'})\r\n",
    "print(f\"A autenticação foi realizada para a loja {req.json()['name']} com o id {req.json()['id']}\")"
   ]
  },
  {
   "cell_type": "code",
   "execution_count": null,
   "id": "7beaa69d",
   "metadata": {},
   "outputs": [],
   "source": [
    "# Categories\r\n",
    "API_URL = 'http://localhost'\r\n",
    "params = {}\r\n",
    "req = requests.get(f\"{API_URL}:5000/store/{STORE_ID}/categories\", headers = {'content-type': 'application/json'})\r\n",
    "print(f\"Foram encontradas as categorias {req.json()}\")"
   ]
  },
  {
   "cell_type": "code",
   "execution_count": null,
   "id": "31f55c1d",
   "metadata": {},
   "outputs": [],
   "source": [
    "API_URL = 'http://localhost'\r\n",
    "data = {\r\n",
    "    'name': 'Roupas',\r\n",
    "    'description': 'Tudo muito barato!'\r\n",
    "}\r\n",
    "req = requests.post(f\"{API_URL}:5000/store/{STORE_ID}/categories\", data = json.dumps(data), headers = {'content-type': 'application/json'})\r\n",
    "print(f\"Foi criada a categoria {req.json()['name']} com o id {req.json()['id']}\")\r\n",
    "\r\n",
    "API_URL = 'http://localhost'\r\n",
    "data = {\r\n",
    "    'category_id': req.json()['id']\r\n",
    "}\r\n",
    "req = requests.delete(f\"{API_URL}:5000/store/{STORE_ID}/categories\", data = json.dumps(data), headers = {'content-type': 'application/json'})\r\n",
    "print(f\"Foi deletada a categoria {req.json()['name']} com o id {req.json()['id']}\")"
   ]
  },
  {
   "cell_type": "code",
   "execution_count": null,
   "id": "ebf7aebf",
   "metadata": {},
   "outputs": [],
   "source": [
    "API_URL = 'http://localhost'\r\n",
    "data = {\r\n",
    "    'name': 'Calçados',\r\n",
    "    'description': 'Tudo mais barato!'\r\n",
    "}\r\n",
    "req = requests.post(f\"{API_URL}:5000/store/{STORE_ID}/categories\", data = json.dumps(data), headers = {'content-type': 'application/json'})\r\n",
    "CATEGORY_ID = req.json()['id']\r\n",
    "print(f\"Foi criada a categoria {req.json()['name']} com o id {req.json()['id']}\")"
   ]
  },
  {
   "cell_type": "code",
   "execution_count": null,
   "id": "960118e4",
   "metadata": {},
   "outputs": [],
   "source": [
    "API_URL = 'http://localhost'\r\n",
    "data = {\r\n",
    "    'category_id': CATEGORY_ID,\r\n",
    "    'name': 'Calçados Nome Novo',\r\n",
    "    'description': 'Tudo mais barato!'\r\n",
    "}\r\n",
    "req = requests.put(f\"{API_URL}:5000/store/{STORE_ID}/categories\", data = json.dumps(data), headers = {'content-type': 'application/json'})\r\n",
    "CATEGORY_ID = req.json()['id']\r\n",
    "print(f\"Foi atualizada a categoria {req.json()['name']} com o id {req.json()['id']}\")"
   ]
  },
  {
   "cell_type": "code",
   "execution_count": null,
   "id": "ed77d789",
   "metadata": {},
   "outputs": [],
   "source": [
    "# Product\n",
    "API_URL = 'http://localhost'\n",
    "params = {}\n",
    "req = requests.get(f\"{API_URL}:5000/store/{STORE_ID}/products\", headers = {'content-type': 'application/json'})\n",
    "print(f\"Foram encontrados os produtos {req.json()}\")"
   ]
  },
  {
   "cell_type": "code",
   "execution_count": null,
   "id": "b51fcefe",
   "metadata": {},
   "outputs": [],
   "source": [
    "import base64\n",
    "import io\n",
    "\n",
    "API_URL = 'http://localhost'\n",
    "with open('camiseta.png', 'rb') as f:\n",
    "    im_bytes = f.read()\n",
    "im_b64 = base64.b64encode(im_bytes).decode(\"utf8\")\n",
    "data = {\n",
    "    'name': 'Chapeu10',\n",
    "    'description': 'Esse é top hein!',\n",
    "    'price': 10,\n",
    "    'photo': im_b64,\n",
    "    'category_id': CATEGORY_ID\n",
    "}\n",
    "req = requests.post(f\"{API_URL}:5000/store/{STORE_ID}/products\", data = json.dumps(data), headers = {'content-type': 'application/json'})\n",
    "PRODUCT_ID = req.json()['id']\n",
    "print(f\"Foi criado o produto {req.json()['name']} com o id {req.json()['id']}\")"
   ]
  },
  {
   "cell_type": "code",
   "execution_count": null,
   "id": "8206c755",
   "metadata": {},
   "outputs": [],
   "source": [
    "import base64\n",
    "import io\n",
    "\n",
    "API_URL = 'http://localhost'\n",
    "with open('camiseta.png', 'rb') as f:\n",
    "    im_bytes = f.read()\n",
    "im_b64 = base64.b64encode(im_bytes).decode(\"utf8\")\n",
    "data = {\n",
    "    'product_id': PRODUCT_ID,\n",
    "    'name': 'Chapeu Nome novo!',\n",
    "    'description': 'Esse é top hein!',\n",
    "    'price': 10,\n",
    "    'photo': im_b64\n",
    "}\n",
    "req = requests.put(f\"{API_URL}:5000/store/{STORE_ID}/products\", data = json.dumps(data), headers = {'content-type': 'application/json'})\n",
    "PRODUCT_ID = req.json()['id']\n",
    "print(f\"Foi atualizado o produto {req.json()['name']} com o id {req.json()['id']}\")"
   ]
  },
  {
   "cell_type": "code",
   "execution_count": null,
   "id": "c2add6e1",
   "metadata": {},
   "outputs": [],
   "source": [
    "API_URL = 'http://localhost'\n",
    "data = {\n",
    "    'product_id': req.json()['id']\n",
    "}\n",
    "req = requests.delete(f\"{API_URL}:5000/store/{STORE_ID}/products\", data = json.dumps(data), headers = {'content-type': 'application/json'})\n",
    "print(f\"Foi deletado o produto {req.json()['name']} com o id {req.json()['id']}\")"
   ]
  },
  {
   "cell_type": "code",
   "execution_count": null,
   "id": "d71cfcc9",
   "metadata": {},
   "outputs": [],
   "source": [
    "# Specialtys\n",
    "API_URL = 'http://localhost'\n",
    "params = {}\n",
    "req = requests.get(f\"{API_URL}:5000/store/{STORE_ID}/specialtys\", headers = {'content-type': 'application/json'})\n",
    "print(f\"Foram puxadas as especialidade {req.json()}\")"
   ]
  },
  {
   "cell_type": "code",
   "execution_count": null,
   "id": "a385a039",
   "metadata": {},
   "outputs": [],
   "source": [
    "API_URL = 'http://localhost'\n",
    "data = {\n",
    "    'specialtys': ['Roupas', 'Calçados']\n",
    "}\n",
    "req = requests.put(f\"{API_URL}:5000/store/{STORE_ID}/specialtys\", data = json.dumps(data), headers = {'content-type': 'application/json'})\n",
    "print(f\"Foram atualizadas as especialidades {req.json()}\")"
   ]
  },
  {
   "cell_type": "code",
   "execution_count": null,
   "id": "e67eff5b",
   "metadata": {},
   "outputs": [],
   "source": [
    "# Schedules\n",
    "API_URL = 'http://localhost'\n",
    "params = {}\n",
    "req = requests.get(f\"{API_URL}:5000/store/{STORE_ID}/schedules\", headers = {'content-type': 'application/json'})\n",
    "print(f\"Foram puxados horarios {req.json()}\")"
   ]
  },
  {
   "cell_type": "code",
   "execution_count": null,
   "id": "3ff353e4",
   "metadata": {},
   "outputs": [],
   "source": [
    "API_URL = 'http://localhost'\n",
    "data = {\n",
    "    'dow_start': 1, \n",
    "    'dow_end': 3, \n",
    "    'opens_at': '10:00', \n",
    "    'closes_at': '17:00'\n",
    "}\n",
    "req = requests.post(f\"{API_URL}:5000/store/{STORE_ID}/schedules\", data = json.dumps(data), headers = {'content-type': 'application/json'})\n",
    "print(f\"Foi criado o horario {req.json()}\")"
   ]
  },
  {
   "cell_type": "code",
   "execution_count": null,
   "id": "028ced74",
   "metadata": {},
   "outputs": [],
   "source": [
    "API_URL = 'http://localhost'\n",
    "data = {\n",
    "    'schedule_id': req.json()['id']\n",
    "}\n",
    "req = requests.delete(f\"{API_URL}:5000/store/{STORE_ID}/schedules\", data = json.dumps(data), headers = {'content-type': 'application/json'})\n",
    "print(f\"Foi deletado o horario {req.json()}\")"
   ]
  }
 ],
 "metadata": {
  "kernelspec": {
   "display_name": "Python 3",
   "language": "python",
   "name": "python3"
  },
  "language_info": {
   "codemirror_mode": {
    "name": "ipython",
    "version": 3
   },
   "file_extension": ".py",
   "mimetype": "text/x-python",
   "name": "python",
   "nbconvert_exporter": "python",
   "pygments_lexer": "ipython3",
   "version": "3.8.3"
  }
 },
 "nbformat": 4,
 "nbformat_minor": 5
}
